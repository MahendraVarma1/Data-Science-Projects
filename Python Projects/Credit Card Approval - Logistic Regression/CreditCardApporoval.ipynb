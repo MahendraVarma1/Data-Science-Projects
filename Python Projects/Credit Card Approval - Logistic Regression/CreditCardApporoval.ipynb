{
  "metadata": {
    "kernelspec": {
      "language": "python",
      "display_name": "Python 3",
      "name": "python3"
    },
    "language_info": {
      "pygments_lexer": "ipython3",
      "nbconvert_exporter": "python",
      "version": "3.6.4",
      "file_extension": ".py",
      "codemirror_mode": {
        "name": "ipython",
        "version": 3
      },
      "name": "python",
      "mimetype": "text/x-python"
    },
    "colab": {
      "name": "CreditCardApporoval",
      "provenance": []
    }
  },
  "nbformat_minor": 0,
  "nbformat": 4,
  "cells": [
    {
      "source": [
        "\n",
        "# IMPORTANT: RUN THIS CELL IN ORDER TO IMPORT YOUR KAGGLE DATA SOURCES\n",
        "# TO THE CORRECT LOCATION (/kaggle/input) IN YOUR NOTEBOOK,\n",
        "# THEN FEEL FREE TO DELETE THIS CELL.\n",
        "# NOTE: THIS NOTEBOOK ENVIRONMENT DIFFERS FROM KAGGLE'S PYTHON\n",
        "# ENVIRONMENT SO THERE MAY BE MISSING LIBRARIES USED BY YOUR\n",
        "# NOTEBOOK.\n",
        "\n",
        "import os\n",
        "import sys\n",
        "from tempfile import NamedTemporaryFile\n",
        "from urllib.request import urlopen\n",
        "from urllib.parse import unquote, urlparse\n",
        "from urllib.error import HTTPError\n",
        "from zipfile import ZipFile\n",
        "import tarfile\n",
        "import shutil\n",
        "\n",
        "CHUNK_SIZE = 40960\n",
        "DATA_SOURCE_MAPPING = 'credit-card-approval:https%3A%2F%2Fstorage.googleapis.com%2Fkaggle-data-sets%2F3807174%2F6598147%2Fbundle%2Farchive.zip%3FX-Goog-Algorithm%3DGOOG4-RSA-SHA256%26X-Goog-Credential%3Dgcp-kaggle-com%2540kaggle-161607.iam.gserviceaccount.com%252F20240224%252Fauto%252Fstorage%252Fgoog4_request%26X-Goog-Date%3D20240224T020609Z%26X-Goog-Expires%3D259200%26X-Goog-SignedHeaders%3Dhost%26X-Goog-Signature%3D7c689f52694a7a8e8f8f44ffe94c82ec0055ade971eaf0ea740acdbcb31f583baaaf2c6d7166488ef6d259252f677f9a7f12b77525af8eb2de29c400091a1301ceb32c36d77969f9699008f27cd8194ac24f4af21635d71811bcdd7edf017cc5524589e10d303ca8eca3a33a72f5cfb1a0f9e0b3df3abefb425c8dd92b6b66b038d8709e2cb3248f97640a04c8fcecbafb1731f812f760451176485b795c5ec42dd8970651d289ee00a915a9c69c69b90d303a70bce1215f7b3b65e4b704ea608a72ca897797cd9ccd2a2334cc2317545ecf0c0dbe90e279d4f58f2e8d8a80a4055832a1993f55a5ee276888253b2f831330636565ae1b807a883a4f8c36add6'\n",
        "\n",
        "KAGGLE_INPUT_PATH='/kaggle/input'\n",
        "KAGGLE_WORKING_PATH='/kaggle/working'\n",
        "KAGGLE_SYMLINK='kaggle'\n",
        "\n",
        "!umount /kaggle/input/ 2> /dev/null\n",
        "shutil.rmtree('/kaggle/input', ignore_errors=True)\n",
        "os.makedirs(KAGGLE_INPUT_PATH, 0o777, exist_ok=True)\n",
        "os.makedirs(KAGGLE_WORKING_PATH, 0o777, exist_ok=True)\n",
        "\n",
        "try:\n",
        "  os.symlink(KAGGLE_INPUT_PATH, os.path.join(\"..\", 'input'), target_is_directory=True)\n",
        "except FileExistsError:\n",
        "  pass\n",
        "try:\n",
        "  os.symlink(KAGGLE_WORKING_PATH, os.path.join(\"..\", 'working'), target_is_directory=True)\n",
        "except FileExistsError:\n",
        "  pass\n",
        "\n",
        "for data_source_mapping in DATA_SOURCE_MAPPING.split(','):\n",
        "    directory, download_url_encoded = data_source_mapping.split(':')\n",
        "    download_url = unquote(download_url_encoded)\n",
        "    filename = urlparse(download_url).path\n",
        "    destination_path = os.path.join(KAGGLE_INPUT_PATH, directory)\n",
        "    try:\n",
        "        with urlopen(download_url) as fileres, NamedTemporaryFile() as tfile:\n",
        "            total_length = fileres.headers['content-length']\n",
        "            print(f'Downloading {directory}, {total_length} bytes compressed')\n",
        "            dl = 0\n",
        "            data = fileres.read(CHUNK_SIZE)\n",
        "            while len(data) > 0:\n",
        "                dl += len(data)\n",
        "                tfile.write(data)\n",
        "                done = int(50 * dl / int(total_length))\n",
        "                sys.stdout.write(f\"\\r[{'=' * done}{' ' * (50-done)}] {dl} bytes downloaded\")\n",
        "                sys.stdout.flush()\n",
        "                data = fileres.read(CHUNK_SIZE)\n",
        "            if filename.endswith('.zip'):\n",
        "              with ZipFile(tfile) as zfile:\n",
        "                zfile.extractall(destination_path)\n",
        "            else:\n",
        "              with tarfile.open(tfile.name) as tarfile:\n",
        "                tarfile.extractall(destination_path)\n",
        "            print(f'\\nDownloaded and uncompressed: {directory}')\n",
        "    except HTTPError as e:\n",
        "        print(f'Failed to load (likely expired) {download_url} to path {destination_path}')\n",
        "        continue\n",
        "    except OSError as e:\n",
        "        print(f'Failed to load {download_url} to path {destination_path}')\n",
        "        continue\n",
        "\n",
        "print('Data source import complete.')\n"
      ],
      "metadata": {
        "id": "BO6y1nC83N-b"
      },
      "cell_type": "code",
      "outputs": [],
      "execution_count": null
    },
    {
      "cell_type": "code",
      "source": [
        "import pandas as pd\n",
        "import numpy as np\n",
        "import matplotlib.pyplot as plt\n",
        "import seaborn as sns"
      ],
      "metadata": {
        "execution": {
          "iopub.status.busy": "2023-10-21T15:02:56.358704Z",
          "iopub.execute_input": "2023-10-21T15:02:56.35944Z",
          "iopub.status.idle": "2023-10-21T15:02:58.917541Z",
          "shell.execute_reply.started": "2023-10-21T15:02:56.3594Z",
          "shell.execute_reply": "2023-10-21T15:02:58.916531Z"
        },
        "trusted": true,
        "id": "j1L5E9aF3N-e"
      },
      "execution_count": null,
      "outputs": []
    },
    {
      "cell_type": "markdown",
      "source": [
        "**Use the followinf Data to make a Machine Learning Model to predict Credit card Approval**"
      ],
      "metadata": {
        "id": "tO6DAtnr3N-f"
      }
    },
    {
      "cell_type": "code",
      "source": [
        "df = pd.read_csv('/kaggle/input/credit-card-approval/cc_approvals.data',header=None)\n",
        "\n",
        "cols = ['Gender','Age','Debt','Married','BankCustomer','EducationLevel','Ethnicity',\n",
        "        'YearsEmployed','PriorDefault','Employed','CreditScore','DriversLicense','Citizen',\n",
        "        'ZipCode','Income','ApprovalStatus']\n",
        "\n",
        "df.columns = cols\n",
        "df.head()"
      ],
      "metadata": {
        "execution": {
          "iopub.status.busy": "2023-10-21T15:02:58.919616Z",
          "iopub.execute_input": "2023-10-21T15:02:58.920958Z",
          "iopub.status.idle": "2023-10-21T15:02:58.989274Z",
          "shell.execute_reply.started": "2023-10-21T15:02:58.920896Z",
          "shell.execute_reply": "2023-10-21T15:02:58.988095Z"
        },
        "trusted": true,
        "id": "KYunuUje3N-g"
      },
      "execution_count": null,
      "outputs": []
    },
    {
      "cell_type": "code",
      "source": [
        "df.isnull().sum()"
      ],
      "metadata": {
        "execution": {
          "iopub.status.busy": "2023-10-21T15:02:58.991012Z",
          "iopub.execute_input": "2023-10-21T15:02:58.991733Z",
          "iopub.status.idle": "2023-10-21T15:02:59.005853Z",
          "shell.execute_reply.started": "2023-10-21T15:02:58.991691Z",
          "shell.execute_reply": "2023-10-21T15:02:59.00451Z"
        },
        "trusted": true,
        "id": "mULRfeTW3N-h"
      },
      "execution_count": null,
      "outputs": []
    },
    {
      "cell_type": "code",
      "source": [
        "df.dtypes"
      ],
      "metadata": {
        "execution": {
          "iopub.status.busy": "2023-10-21T15:02:59.012075Z",
          "iopub.execute_input": "2023-10-21T15:02:59.013523Z",
          "iopub.status.idle": "2023-10-21T15:02:59.028548Z",
          "shell.execute_reply.started": "2023-10-21T15:02:59.013466Z",
          "shell.execute_reply": "2023-10-21T15:02:59.027051Z"
        },
        "trusted": true,
        "id": "ixJYEDh_3N-h"
      },
      "execution_count": null,
      "outputs": []
    },
    {
      "cell_type": "code",
      "source": [
        "df.shape"
      ],
      "metadata": {
        "execution": {
          "iopub.status.busy": "2023-10-21T15:02:59.030864Z",
          "iopub.execute_input": "2023-10-21T15:02:59.031829Z",
          "iopub.status.idle": "2023-10-21T15:02:59.04593Z",
          "shell.execute_reply.started": "2023-10-21T15:02:59.031783Z",
          "shell.execute_reply": "2023-10-21T15:02:59.044523Z"
        },
        "trusted": true,
        "id": "MT0CYfpg3N-h"
      },
      "execution_count": null,
      "outputs": []
    },
    {
      "cell_type": "code",
      "source": [
        "(df == '?').sum()"
      ],
      "metadata": {
        "execution": {
          "iopub.status.busy": "2023-10-21T15:02:59.048056Z",
          "iopub.execute_input": "2023-10-21T15:02:59.048933Z",
          "iopub.status.idle": "2023-10-21T15:02:59.073808Z",
          "shell.execute_reply.started": "2023-10-21T15:02:59.048889Z",
          "shell.execute_reply": "2023-10-21T15:02:59.072126Z"
        },
        "trusted": true,
        "id": "HUvQwHXL3N-h"
      },
      "execution_count": null,
      "outputs": []
    },
    {
      "cell_type": "code",
      "source": [
        "#convert all '?' into null or blank cells\n",
        "df1 = df.applymap(lambda x: np.nan if x == '?' else x)\n",
        "df1.head()"
      ],
      "metadata": {
        "execution": {
          "iopub.status.busy": "2023-10-21T15:02:59.075963Z",
          "iopub.execute_input": "2023-10-21T15:02:59.076455Z",
          "iopub.status.idle": "2023-10-21T15:02:59.125341Z",
          "shell.execute_reply.started": "2023-10-21T15:02:59.076412Z",
          "shell.execute_reply": "2023-10-21T15:02:59.123996Z"
        },
        "trusted": true,
        "id": "fgT6NFzG3N-i"
      },
      "execution_count": null,
      "outputs": []
    },
    {
      "cell_type": "code",
      "source": [
        "df1.isnull().sum()"
      ],
      "metadata": {
        "execution": {
          "iopub.status.busy": "2023-10-21T15:02:59.127026Z",
          "iopub.execute_input": "2023-10-21T15:02:59.129956Z",
          "iopub.status.idle": "2023-10-21T15:02:59.144138Z",
          "shell.execute_reply.started": "2023-10-21T15:02:59.129902Z",
          "shell.execute_reply": "2023-10-21T15:02:59.142747Z"
        },
        "trusted": true,
        "id": "ICJCoOzN3N-i"
      },
      "execution_count": null,
      "outputs": []
    },
    {
      "cell_type": "code",
      "source": [
        "#%ge of data we may loose if we drop rows with null values\n",
        "\n",
        "(len(df1) - len(df1.dropna()))/len(df1)"
      ],
      "metadata": {
        "execution": {
          "iopub.status.busy": "2023-10-21T15:02:59.146046Z",
          "iopub.execute_input": "2023-10-21T15:02:59.148473Z",
          "iopub.status.idle": "2023-10-21T15:02:59.173323Z",
          "shell.execute_reply.started": "2023-10-21T15:02:59.148324Z",
          "shell.execute_reply": "2023-10-21T15:02:59.172106Z"
        },
        "trusted": true,
        "id": "PxtvZTsN3N-i"
      },
      "execution_count": null,
      "outputs": []
    },
    {
      "cell_type": "code",
      "source": [
        "df2 = df1.dropna()     #drops all the rows with null values"
      ],
      "metadata": {
        "execution": {
          "iopub.status.busy": "2023-10-21T15:02:59.179715Z",
          "iopub.execute_input": "2023-10-21T15:02:59.180528Z",
          "iopub.status.idle": "2023-10-21T15:02:59.190773Z",
          "shell.execute_reply.started": "2023-10-21T15:02:59.180479Z",
          "shell.execute_reply": "2023-10-21T15:02:59.189101Z"
        },
        "trusted": true,
        "id": "3rz9NYJi3N-i"
      },
      "execution_count": null,
      "outputs": []
    },
    {
      "cell_type": "code",
      "source": [
        "df2['Age'] = df2['Age'].astype(float)\n",
        "df2['ZipCode'] = df2['ZipCode'].astype(int)"
      ],
      "metadata": {
        "execution": {
          "iopub.status.busy": "2023-10-21T15:02:59.193552Z",
          "iopub.execute_input": "2023-10-21T15:02:59.194636Z",
          "iopub.status.idle": "2023-10-21T15:02:59.210662Z",
          "shell.execute_reply.started": "2023-10-21T15:02:59.194583Z",
          "shell.execute_reply": "2023-10-21T15:02:59.209059Z"
        },
        "trusted": true,
        "id": "6SJq6xJV3N-j"
      },
      "execution_count": null,
      "outputs": []
    },
    {
      "cell_type": "code",
      "source": [
        "df2.head()"
      ],
      "metadata": {
        "execution": {
          "iopub.status.busy": "2023-10-21T15:02:59.212814Z",
          "iopub.execute_input": "2023-10-21T15:02:59.213666Z",
          "iopub.status.idle": "2023-10-21T15:02:59.246475Z",
          "shell.execute_reply.started": "2023-10-21T15:02:59.213621Z",
          "shell.execute_reply": "2023-10-21T15:02:59.245296Z"
        },
        "trusted": true,
        "id": "Q3sdrBjw3N-j"
      },
      "execution_count": null,
      "outputs": []
    },
    {
      "cell_type": "code",
      "source": [
        "df2['ApprovalStatus'].unique()"
      ],
      "metadata": {
        "execution": {
          "iopub.status.busy": "2023-10-21T15:02:59.247974Z",
          "iopub.execute_input": "2023-10-21T15:02:59.248983Z",
          "iopub.status.idle": "2023-10-21T15:02:59.264103Z",
          "shell.execute_reply.started": "2023-10-21T15:02:59.248937Z",
          "shell.execute_reply": "2023-10-21T15:02:59.262907Z"
        },
        "trusted": true,
        "id": "Zye0_aic3N-j"
      },
      "execution_count": null,
      "outputs": []
    },
    {
      "cell_type": "code",
      "source": [
        "df2['ApprovalStatus'] = df2['ApprovalStatus'].map({'+' : 1, '-' : 0})"
      ],
      "metadata": {
        "execution": {
          "iopub.status.busy": "2023-10-21T15:02:59.266303Z",
          "iopub.execute_input": "2023-10-21T15:02:59.267562Z",
          "iopub.status.idle": "2023-10-21T15:02:59.280669Z",
          "shell.execute_reply.started": "2023-10-21T15:02:59.267511Z",
          "shell.execute_reply": "2023-10-21T15:02:59.27946Z"
        },
        "trusted": true,
        "id": "ucTvNEDV3N-j"
      },
      "execution_count": null,
      "outputs": []
    },
    {
      "cell_type": "code",
      "source": [
        "df2.dtypes"
      ],
      "metadata": {
        "execution": {
          "iopub.status.busy": "2023-10-21T15:02:59.282283Z",
          "iopub.execute_input": "2023-10-21T15:02:59.283685Z",
          "iopub.status.idle": "2023-10-21T15:02:59.299693Z",
          "shell.execute_reply.started": "2023-10-21T15:02:59.283564Z",
          "shell.execute_reply": "2023-10-21T15:02:59.298772Z"
        },
        "trusted": true,
        "id": "CkjLaBeL3N-j"
      },
      "execution_count": null,
      "outputs": []
    },
    {
      "cell_type": "code",
      "source": [
        "list(df2.columns[df2.dtypes == object])      #columns having non-numerical data"
      ],
      "metadata": {
        "execution": {
          "iopub.status.busy": "2023-10-21T15:02:59.301248Z",
          "iopub.execute_input": "2023-10-21T15:02:59.302005Z",
          "iopub.status.idle": "2023-10-21T15:02:59.317166Z",
          "shell.execute_reply.started": "2023-10-21T15:02:59.301959Z",
          "shell.execute_reply": "2023-10-21T15:02:59.316015Z"
        },
        "trusted": true,
        "id": "BjvbDKE73N-j"
      },
      "execution_count": null,
      "outputs": []
    },
    {
      "cell_type": "code",
      "source": [
        "df2_non_num  = df2[list(df2.columns[df2.dtypes == object])]\n",
        "df2_non_num.head()"
      ],
      "metadata": {
        "execution": {
          "iopub.status.busy": "2023-10-21T15:02:59.318682Z",
          "iopub.execute_input": "2023-10-21T15:02:59.319673Z",
          "iopub.status.idle": "2023-10-21T15:02:59.346633Z",
          "shell.execute_reply.started": "2023-10-21T15:02:59.319631Z",
          "shell.execute_reply": "2023-10-21T15:02:59.345386Z"
        },
        "trusted": true,
        "id": "_Enqz0dX3N-j"
      },
      "execution_count": null,
      "outputs": []
    },
    {
      "cell_type": "code",
      "source": [
        "df2.columns"
      ],
      "metadata": {
        "execution": {
          "iopub.status.busy": "2023-10-21T15:02:59.348163Z",
          "iopub.execute_input": "2023-10-21T15:02:59.348526Z",
          "iopub.status.idle": "2023-10-21T15:02:59.362482Z",
          "shell.execute_reply.started": "2023-10-21T15:02:59.348494Z",
          "shell.execute_reply": "2023-10-21T15:02:59.361276Z"
        },
        "trusted": true,
        "id": "ePERLeaZ3N-j"
      },
      "execution_count": null,
      "outputs": []
    },
    {
      "cell_type": "code",
      "source": [
        "list(df2.columns[(df2.dtypes == float) | (df2.dtypes == int)])  #Columns having numerical data"
      ],
      "metadata": {
        "execution": {
          "iopub.status.busy": "2023-10-21T15:02:59.364278Z",
          "iopub.execute_input": "2023-10-21T15:02:59.365035Z",
          "iopub.status.idle": "2023-10-21T15:02:59.379741Z",
          "shell.execute_reply.started": "2023-10-21T15:02:59.364977Z",
          "shell.execute_reply": "2023-10-21T15:02:59.378279Z"
        },
        "trusted": true,
        "id": "p2IQjj1E3N-k"
      },
      "execution_count": null,
      "outputs": []
    },
    {
      "cell_type": "code",
      "source": [
        "df2_num = df2[list(df2.columns[(df2.dtypes == float) | (df2.dtypes == int)])]\n",
        "df2_num.head()"
      ],
      "metadata": {
        "execution": {
          "iopub.status.busy": "2023-10-21T15:02:59.381649Z",
          "iopub.execute_input": "2023-10-21T15:02:59.38241Z",
          "iopub.status.idle": "2023-10-21T15:02:59.409105Z",
          "shell.execute_reply.started": "2023-10-21T15:02:59.382365Z",
          "shell.execute_reply": "2023-10-21T15:02:59.407841Z"
        },
        "trusted": true,
        "id": "QJJdIMl93N-k"
      },
      "execution_count": null,
      "outputs": []
    },
    {
      "cell_type": "code",
      "source": [
        "df2.groupby('ApprovalStatus')['Age'].agg(['mean','median','max','min'])"
      ],
      "metadata": {
        "execution": {
          "iopub.status.busy": "2023-10-21T15:02:59.411092Z",
          "iopub.execute_input": "2023-10-21T15:02:59.412206Z",
          "iopub.status.idle": "2023-10-21T15:02:59.44115Z",
          "shell.execute_reply.started": "2023-10-21T15:02:59.412157Z",
          "shell.execute_reply": "2023-10-21T15:02:59.439771Z"
        },
        "trusted": true,
        "id": "MJXLWdKi3N-k"
      },
      "execution_count": null,
      "outputs": []
    },
    {
      "cell_type": "code",
      "source": [
        "df2.groupby('ApprovalStatus')['Age'].agg(['mean','median','max','min']).plot.bar()\n",
        "plt.show()"
      ],
      "metadata": {
        "execution": {
          "iopub.status.busy": "2023-10-21T15:02:59.442941Z",
          "iopub.execute_input": "2023-10-21T15:02:59.443518Z",
          "iopub.status.idle": "2023-10-21T15:02:59.844668Z",
          "shell.execute_reply.started": "2023-10-21T15:02:59.443474Z",
          "shell.execute_reply": "2023-10-21T15:02:59.843321Z"
        },
        "trusted": true,
        "id": "QvTAhDNx3N-k"
      },
      "execution_count": null,
      "outputs": []
    },
    {
      "cell_type": "code",
      "source": [
        "sns.boxplot(data = df2 , x = 'ApprovalStatus' , y = 'Age')\n",
        "plt.show()"
      ],
      "metadata": {
        "execution": {
          "iopub.status.busy": "2023-10-21T15:02:59.846404Z",
          "iopub.execute_input": "2023-10-21T15:02:59.847544Z",
          "iopub.status.idle": "2023-10-21T15:03:00.10799Z",
          "shell.execute_reply.started": "2023-10-21T15:02:59.847506Z",
          "shell.execute_reply": "2023-10-21T15:03:00.10666Z"
        },
        "trusted": true,
        "id": "hI6MUFEn3N-k"
      },
      "execution_count": null,
      "outputs": []
    },
    {
      "cell_type": "code",
      "source": [
        "#Break the data into two parts => Card not Approved & Card Approved\n",
        "\n",
        "df2_a0 = df2[df2['ApprovalStatus'] == 0]\n",
        "df2_a1 = df2[df2['ApprovalStatus'] == 1]"
      ],
      "metadata": {
        "execution": {
          "iopub.status.busy": "2023-10-21T15:03:00.10998Z",
          "iopub.execute_input": "2023-10-21T15:03:00.110823Z",
          "iopub.status.idle": "2023-10-21T15:03:00.120815Z",
          "shell.execute_reply.started": "2023-10-21T15:03:00.110775Z",
          "shell.execute_reply": "2023-10-21T15:03:00.119191Z"
        },
        "trusted": true,
        "id": "Kc2JgihI3N-k"
      },
      "execution_count": null,
      "outputs": []
    },
    {
      "cell_type": "code",
      "source": [
        "#Outlier analysis for data where card is not approved\n",
        "\n",
        "q1 = np.percentile(df2_a0['Age'],25)\n",
        "q3 = np.percentile(df2_a0['Age'],75)\n",
        "print(q3 , q1)\n",
        "print()\n",
        "iqr = q3 - q1\n",
        "print(iqr)\n",
        "print()\n",
        "lf = q1 - 1.5 * iqr\n",
        "uf = q3 + 1.5 * iqr\n",
        "print(lf , uf)\n",
        "print()\n",
        "percentage_of_outlier_0 = ((df2_a0['Age'] > uf) | (df2_a0['Age'] < lf)).sum()/len(df2)\n",
        "print(percentage_of_outlier_0)"
      ],
      "metadata": {
        "execution": {
          "iopub.status.busy": "2023-10-21T15:03:00.122508Z",
          "iopub.execute_input": "2023-10-21T15:03:00.123228Z",
          "iopub.status.idle": "2023-10-21T15:03:00.148071Z",
          "shell.execute_reply.started": "2023-10-21T15:03:00.123185Z",
          "shell.execute_reply": "2023-10-21T15:03:00.146585Z"
        },
        "trusted": true,
        "id": "d_75mxyi3N-k"
      },
      "execution_count": null,
      "outputs": []
    },
    {
      "cell_type": "code",
      "source": [
        "df2_a0.shape"
      ],
      "metadata": {
        "execution": {
          "iopub.status.busy": "2023-10-21T15:03:00.149933Z",
          "iopub.execute_input": "2023-10-21T15:03:00.150858Z",
          "iopub.status.idle": "2023-10-21T15:03:00.167446Z",
          "shell.execute_reply.started": "2023-10-21T15:03:00.150745Z",
          "shell.execute_reply": "2023-10-21T15:03:00.164604Z"
        },
        "trusted": true,
        "id": "mIeNr-Tb3N-k"
      },
      "execution_count": null,
      "outputs": []
    },
    {
      "cell_type": "code",
      "source": [
        "df2_a1.shape"
      ],
      "metadata": {
        "execution": {
          "iopub.status.busy": "2023-10-21T15:03:00.169234Z",
          "iopub.execute_input": "2023-10-21T15:03:00.170094Z",
          "iopub.status.idle": "2023-10-21T15:03:00.185103Z",
          "shell.execute_reply.started": "2023-10-21T15:03:00.170054Z",
          "shell.execute_reply": "2023-10-21T15:03:00.183623Z"
        },
        "trusted": true,
        "id": "eSPx33yf3N-k"
      },
      "execution_count": null,
      "outputs": []
    },
    {
      "cell_type": "markdown",
      "source": [
        "* remove data came under outlier category for class 0, i.e. when card was not approved"
      ],
      "metadata": {
        "id": "CQ65Gp823N-k"
      }
    },
    {
      "cell_type": "code",
      "source": [
        "#updating data after removing outliers\n",
        "df2_a0 = df2_a0[~((df2_a0['Age'] > uf) | (df2_a0['Age'] < lf))]"
      ],
      "metadata": {
        "execution": {
          "iopub.status.busy": "2023-10-21T15:03:00.193631Z",
          "iopub.execute_input": "2023-10-21T15:03:00.194058Z",
          "iopub.status.idle": "2023-10-21T15:03:00.202372Z",
          "shell.execute_reply.started": "2023-10-21T15:03:00.194024Z",
          "shell.execute_reply": "2023-10-21T15:03:00.200688Z"
        },
        "trusted": true,
        "id": "1gMS0tY83N-k"
      },
      "execution_count": null,
      "outputs": []
    },
    {
      "cell_type": "code",
      "source": [
        "df2_a0.shape"
      ],
      "metadata": {
        "execution": {
          "iopub.status.busy": "2023-10-21T15:03:00.204188Z",
          "iopub.execute_input": "2023-10-21T15:03:00.205135Z",
          "iopub.status.idle": "2023-10-21T15:03:00.218343Z",
          "shell.execute_reply.started": "2023-10-21T15:03:00.205099Z",
          "shell.execute_reply": "2023-10-21T15:03:00.21741Z"
        },
        "trusted": true,
        "id": "-WeEd_eq3N-l"
      },
      "execution_count": null,
      "outputs": []
    },
    {
      "cell_type": "code",
      "source": [
        "#Outlier analysis for data where card is approved\n",
        "\n",
        "q1 = np.percentile(df2_a1['Age'],25)\n",
        "q3 = np.percentile(df2_a1['Age'],75)\n",
        "print(q3 , q1)\n",
        "print()\n",
        "iqr = q3 - q1\n",
        "print(iqr)\n",
        "print()\n",
        "lf = q1 - 1.5 * iqr       #lower fence\n",
        "uf = q3 + 1.5 * iqr       #upper fence\n",
        "print(lf , uf)\n",
        "print()\n",
        "percentage_of_outlier_1 = ((df2_a1['Age'] > uf) | (df2_a1['Age'] < lf)).sum()/len(df2)\n",
        "print(percentage_of_outlier_1)"
      ],
      "metadata": {
        "execution": {
          "iopub.status.busy": "2023-10-21T15:03:00.219684Z",
          "iopub.execute_input": "2023-10-21T15:03:00.220827Z",
          "iopub.status.idle": "2023-10-21T15:03:00.235809Z",
          "shell.execute_reply.started": "2023-10-21T15:03:00.220772Z",
          "shell.execute_reply": "2023-10-21T15:03:00.23466Z"
        },
        "trusted": true,
        "id": "JAXdMEiP3N-l"
      },
      "execution_count": null,
      "outputs": []
    },
    {
      "cell_type": "markdown",
      "source": [
        "* remove data came under outlier category for class 1, i.e. when card was approved"
      ],
      "metadata": {
        "id": "GE7X4-rM3N-l"
      }
    },
    {
      "cell_type": "code",
      "source": [
        "#updating data without outliers\n",
        "\n",
        "df2_a1 = df2_a1[~((df2_a1['Age'] > uf) | (df2_a1['Age'] < lf))]"
      ],
      "metadata": {
        "execution": {
          "iopub.status.busy": "2023-10-21T15:03:00.237824Z",
          "iopub.execute_input": "2023-10-21T15:03:00.239015Z",
          "iopub.status.idle": "2023-10-21T15:03:00.248186Z",
          "shell.execute_reply.started": "2023-10-21T15:03:00.23897Z",
          "shell.execute_reply": "2023-10-21T15:03:00.247146Z"
        },
        "trusted": true,
        "id": "PEBTTRJp3N-l"
      },
      "execution_count": null,
      "outputs": []
    },
    {
      "cell_type": "code",
      "source": [
        "df2_a1.shape"
      ],
      "metadata": {
        "execution": {
          "iopub.status.busy": "2023-10-21T15:03:00.249799Z",
          "iopub.execute_input": "2023-10-21T15:03:00.250176Z",
          "iopub.status.idle": "2023-10-21T15:03:00.265179Z",
          "shell.execute_reply.started": "2023-10-21T15:03:00.250145Z",
          "shell.execute_reply": "2023-10-21T15:03:00.263782Z"
        },
        "trusted": true,
        "id": "zO_sfxQ33N-l"
      },
      "execution_count": null,
      "outputs": []
    },
    {
      "cell_type": "code",
      "source": [
        "#Join back df2_a0 & df2_a1\n",
        "\n",
        "df3 = pd.concat((df2_a0,df2_a1))"
      ],
      "metadata": {
        "execution": {
          "iopub.status.busy": "2023-10-21T15:03:00.266951Z",
          "iopub.execute_input": "2023-10-21T15:03:00.267336Z",
          "iopub.status.idle": "2023-10-21T15:03:00.280439Z",
          "shell.execute_reply.started": "2023-10-21T15:03:00.267304Z",
          "shell.execute_reply": "2023-10-21T15:03:00.279352Z"
        },
        "trusted": true,
        "id": "I-3PfS6n3N-l"
      },
      "execution_count": null,
      "outputs": []
    },
    {
      "cell_type": "code",
      "source": [
        "print(df2.shape)\n",
        "print(df3.shape)"
      ],
      "metadata": {
        "execution": {
          "iopub.status.busy": "2023-10-21T15:03:00.282009Z",
          "iopub.execute_input": "2023-10-21T15:03:00.283126Z",
          "iopub.status.idle": "2023-10-21T15:03:00.298754Z",
          "shell.execute_reply.started": "2023-10-21T15:03:00.283089Z",
          "shell.execute_reply": "2023-10-21T15:03:00.297431Z"
        },
        "trusted": true,
        "id": "wcwvuwFr3N-l"
      },
      "execution_count": null,
      "outputs": []
    },
    {
      "cell_type": "code",
      "source": [
        "(len(df2) - len(df3))/len(df2)"
      ],
      "metadata": {
        "execution": {
          "iopub.status.busy": "2023-10-21T15:03:00.300638Z",
          "iopub.execute_input": "2023-10-21T15:03:00.301673Z",
          "iopub.status.idle": "2023-10-21T15:03:00.316312Z",
          "shell.execute_reply.started": "2023-10-21T15:03:00.301628Z",
          "shell.execute_reply": "2023-10-21T15:03:00.314864Z"
        },
        "trusted": true,
        "id": "-gl-m0KZ3N-l"
      },
      "execution_count": null,
      "outputs": []
    },
    {
      "cell_type": "markdown",
      "source": [
        "**Overall Outlier Analysis**"
      ],
      "metadata": {
        "id": "cRXWCzIq3N-o"
      }
    },
    {
      "cell_type": "code",
      "source": [
        "plt.subplot(1,2,1)\n",
        "sns.boxplot(data = df2  , y = 'Age')\n",
        "\n",
        "plt.subplot(1,2,2)\n",
        "sns.boxplot(data = df3  , y = 'Age')\n",
        "\n",
        "plt.show()"
      ],
      "metadata": {
        "execution": {
          "iopub.status.busy": "2023-10-21T15:03:00.318394Z",
          "iopub.execute_input": "2023-10-21T15:03:00.319757Z",
          "iopub.status.idle": "2023-10-21T15:03:00.726895Z",
          "shell.execute_reply.started": "2023-10-21T15:03:00.319701Z",
          "shell.execute_reply": "2023-10-21T15:03:00.725331Z"
        },
        "trusted": true,
        "id": "jiOQorvh3N-o"
      },
      "execution_count": null,
      "outputs": []
    },
    {
      "cell_type": "code",
      "source": [
        "q1 = np.percentile(df2['Age'],25)\n",
        "q3 = np.percentile(df2['Age'],75)\n",
        "print(q3 , q1)\n",
        "print()\n",
        "iqr = q3 - q1\n",
        "print(iqr)\n",
        "print()\n",
        "lf = q1 - 1.5 * iqr\n",
        "uf = q3 + 1.5 * iqr\n",
        "print(lf , uf)"
      ],
      "metadata": {
        "execution": {
          "iopub.status.busy": "2023-10-21T15:03:00.728611Z",
          "iopub.execute_input": "2023-10-21T15:03:00.729364Z",
          "iopub.status.idle": "2023-10-21T15:03:00.739989Z",
          "shell.execute_reply.started": "2023-10-21T15:03:00.729316Z",
          "shell.execute_reply": "2023-10-21T15:03:00.738404Z"
        },
        "trusted": true,
        "id": "ad7U3O5X3N-o"
      },
      "execution_count": null,
      "outputs": []
    },
    {
      "cell_type": "code",
      "source": [
        "((df2['Age'] > uf) | (df2['Age'] < lf)).sum()/len(df)"
      ],
      "metadata": {
        "execution": {
          "iopub.status.busy": "2023-10-21T15:03:00.741838Z",
          "iopub.execute_input": "2023-10-21T15:03:00.74232Z",
          "iopub.status.idle": "2023-10-21T15:03:00.759408Z",
          "shell.execute_reply.started": "2023-10-21T15:03:00.742274Z",
          "shell.execute_reply": "2023-10-21T15:03:00.757857Z"
        },
        "trusted": true,
        "id": "dzIDxHFo3N-p"
      },
      "execution_count": null,
      "outputs": []
    },
    {
      "cell_type": "code",
      "source": [
        "sns.boxplot(data = df3 , x = 'ApprovalStatus' , y = 'Age')\n",
        "plt.show()"
      ],
      "metadata": {
        "execution": {
          "iopub.status.busy": "2023-10-21T15:03:00.761416Z",
          "iopub.execute_input": "2023-10-21T15:03:00.762021Z",
          "iopub.status.idle": "2023-10-21T15:03:01.021621Z",
          "shell.execute_reply.started": "2023-10-21T15:03:00.76198Z",
          "shell.execute_reply": "2023-10-21T15:03:01.019206Z"
        },
        "trusted": true,
        "id": "qFYm_vHt3N-p"
      },
      "execution_count": null,
      "outputs": []
    },
    {
      "cell_type": "code",
      "source": [
        "sns.pairplot(df2_num , hue = 'ApprovalStatus')\n",
        "plt.show()"
      ],
      "metadata": {
        "execution": {
          "iopub.status.busy": "2023-10-21T15:03:01.023677Z",
          "iopub.execute_input": "2023-10-21T15:03:01.024529Z",
          "iopub.status.idle": "2023-10-21T15:03:18.097938Z",
          "shell.execute_reply.started": "2023-10-21T15:03:01.024467Z",
          "shell.execute_reply": "2023-10-21T15:03:18.097035Z"
        },
        "trusted": true,
        "id": "EUV4cisj3N-p"
      },
      "execution_count": null,
      "outputs": []
    },
    {
      "cell_type": "code",
      "source": [
        "df3.head()"
      ],
      "metadata": {
        "execution": {
          "iopub.status.busy": "2023-10-21T15:03:46.46399Z",
          "iopub.execute_input": "2023-10-21T15:03:46.465174Z",
          "iopub.status.idle": "2023-10-21T15:03:46.490137Z",
          "shell.execute_reply.started": "2023-10-21T15:03:46.465119Z",
          "shell.execute_reply": "2023-10-21T15:03:46.488656Z"
        },
        "trusted": true,
        "id": "5ByxbckR3N-p"
      },
      "execution_count": null,
      "outputs": []
    },
    {
      "cell_type": "code",
      "source": [
        "df4 = pd.get_dummies(df3)\n",
        "df4.head()"
      ],
      "metadata": {
        "execution": {
          "iopub.status.busy": "2023-10-21T15:05:01.949127Z",
          "iopub.execute_input": "2023-10-21T15:05:01.949601Z",
          "iopub.status.idle": "2023-10-21T15:05:01.992353Z",
          "shell.execute_reply.started": "2023-10-21T15:05:01.94955Z",
          "shell.execute_reply": "2023-10-21T15:05:01.991151Z"
        },
        "trusted": true,
        "id": "lph0jGin3N-p"
      },
      "execution_count": null,
      "outputs": []
    },
    {
      "cell_type": "code",
      "source": [
        "df4['ApprovalStatus'].value_counts()"
      ],
      "metadata": {
        "execution": {
          "iopub.status.busy": "2023-10-21T15:05:21.180201Z",
          "iopub.execute_input": "2023-10-21T15:05:21.180657Z",
          "iopub.status.idle": "2023-10-21T15:05:21.192478Z",
          "shell.execute_reply.started": "2023-10-21T15:05:21.180619Z",
          "shell.execute_reply": "2023-10-21T15:05:21.191653Z"
        },
        "trusted": true,
        "id": "1XYhxlz13N-p"
      },
      "execution_count": null,
      "outputs": []
    },
    {
      "cell_type": "code",
      "source": [
        "X = df4.drop('ApprovalStatus', axis = 'columns')\n",
        "Y = df4['ApprovalStatus']"
      ],
      "metadata": {
        "execution": {
          "iopub.status.busy": "2023-10-21T15:06:06.579898Z",
          "iopub.execute_input": "2023-10-21T15:06:06.580496Z",
          "iopub.status.idle": "2023-10-21T15:06:06.588517Z",
          "shell.execute_reply.started": "2023-10-21T15:06:06.58045Z",
          "shell.execute_reply": "2023-10-21T15:06:06.586878Z"
        },
        "trusted": true,
        "id": "tjei22p83N-p"
      },
      "execution_count": null,
      "outputs": []
    },
    {
      "cell_type": "code",
      "source": [
        "from sklearn.model_selection import train_test_split\n",
        "xtrain,xtest,ytrain,ytest = train_test_split(X,Y,train_size=0.8)"
      ],
      "metadata": {
        "execution": {
          "iopub.status.busy": "2023-10-21T15:06:45.367533Z",
          "iopub.execute_input": "2023-10-21T15:06:45.368547Z",
          "iopub.status.idle": "2023-10-21T15:06:45.562348Z",
          "shell.execute_reply.started": "2023-10-21T15:06:45.368508Z",
          "shell.execute_reply": "2023-10-21T15:06:45.560887Z"
        },
        "trusted": true,
        "id": "dCo9BMvC3N-p"
      },
      "execution_count": null,
      "outputs": []
    },
    {
      "cell_type": "code",
      "source": [
        "from sklearn.neighbors import KNeighborsClassifier\n",
        "from sklearn.linear_model import LogisticRegression\n",
        "from sklearn.tree import DecisionTreeClassifier\n",
        "from sklearn.ensemble import RandomForestClassifier\n",
        "from sklearn.metrics import confusion_matrix,classification_report"
      ],
      "metadata": {
        "execution": {
          "iopub.status.busy": "2023-10-21T15:14:35.871918Z",
          "iopub.execute_input": "2023-10-21T15:14:35.873233Z",
          "iopub.status.idle": "2023-10-21T15:14:35.879815Z",
          "shell.execute_reply.started": "2023-10-21T15:14:35.87318Z",
          "shell.execute_reply": "2023-10-21T15:14:35.878337Z"
        },
        "trusted": true,
        "id": "FhClmKOC3N-q"
      },
      "execution_count": null,
      "outputs": []
    },
    {
      "cell_type": "markdown",
      "source": [
        "****\n",
        "K_Nearest_Neighbors\n",
        "****"
      ],
      "metadata": {
        "id": "FRt6Be-W3N-q"
      }
    },
    {
      "cell_type": "code",
      "source": [
        "model1 = KNeighborsClassifier(n_neighbors=5)\n",
        "model1.fit(xtrain,ytrain)\n",
        "\n",
        "print(\"Train Data Accuracy\" , model1.score(xtrain,ytrain))\n",
        "print(\"Test Data Accuracy\" , model1.score(xtest,ytest))"
      ],
      "metadata": {
        "execution": {
          "iopub.status.busy": "2023-10-21T15:10:11.29109Z",
          "iopub.execute_input": "2023-10-21T15:10:11.291555Z",
          "iopub.status.idle": "2023-10-21T15:10:11.447104Z",
          "shell.execute_reply.started": "2023-10-21T15:10:11.291521Z",
          "shell.execute_reply": "2023-10-21T15:10:11.445836Z"
        },
        "trusted": true,
        "id": "srBCXPrz3N-q"
      },
      "execution_count": null,
      "outputs": []
    },
    {
      "cell_type": "code",
      "source": [
        "confusion_matrix(ytrain , model1.predict(xtrain))"
      ],
      "metadata": {
        "execution": {
          "iopub.status.busy": "2023-10-21T15:13:41.469519Z",
          "iopub.execute_input": "2023-10-21T15:13:41.470127Z",
          "iopub.status.idle": "2023-10-21T15:13:41.567611Z",
          "shell.execute_reply.started": "2023-10-21T15:13:41.470081Z",
          "shell.execute_reply": "2023-10-21T15:13:41.566359Z"
        },
        "trusted": true,
        "id": "0par2zLk3N-q"
      },
      "execution_count": null,
      "outputs": []
    },
    {
      "cell_type": "code",
      "source": [
        "confusion_matrix(ytest , model1.predict(xtest))"
      ],
      "metadata": {
        "execution": {
          "iopub.status.busy": "2023-10-21T15:14:23.974032Z",
          "iopub.execute_input": "2023-10-21T15:14:23.974447Z",
          "iopub.status.idle": "2023-10-21T15:14:24.005673Z",
          "shell.execute_reply.started": "2023-10-21T15:14:23.974417Z",
          "shell.execute_reply": "2023-10-21T15:14:24.003409Z"
        },
        "trusted": true,
        "id": "2mP5YYN-3N-q"
      },
      "execution_count": null,
      "outputs": []
    },
    {
      "cell_type": "code",
      "source": [
        "print(classification_report(ytrain , model1.predict(xtrain)))"
      ],
      "metadata": {
        "execution": {
          "iopub.status.busy": "2023-10-21T15:14:58.565143Z",
          "iopub.execute_input": "2023-10-21T15:14:58.565617Z",
          "iopub.status.idle": "2023-10-21T15:14:58.704534Z",
          "shell.execute_reply.started": "2023-10-21T15:14:58.565551Z",
          "shell.execute_reply": "2023-10-21T15:14:58.703653Z"
        },
        "trusted": true,
        "id": "Q_pRVl043N-q"
      },
      "execution_count": null,
      "outputs": []
    },
    {
      "cell_type": "code",
      "source": [
        "print(classification_report(ytest , model1.predict(xtest)))"
      ],
      "metadata": {
        "execution": {
          "iopub.status.busy": "2023-10-21T15:15:10.511189Z",
          "iopub.execute_input": "2023-10-21T15:15:10.511629Z",
          "iopub.status.idle": "2023-10-21T15:15:10.586127Z",
          "shell.execute_reply.started": "2023-10-21T15:15:10.511596Z",
          "shell.execute_reply": "2023-10-21T15:15:10.585169Z"
        },
        "trusted": true,
        "id": "aPaXNzSC3N-q"
      },
      "execution_count": null,
      "outputs": []
    },
    {
      "cell_type": "markdown",
      "source": [
        "****\n",
        "Logistic Regression\n",
        "****"
      ],
      "metadata": {
        "id": "BpLNNtZE3N-q"
      }
    },
    {
      "cell_type": "code",
      "source": [
        "model2 = LogisticRegression()\n",
        "model2.fit(xtrain,ytrain)\n",
        "\n",
        "print(\"Train Data Accuracy=\" , model2.score(xtrain,ytrain))\n",
        "print(\"Test Data Accuracy=\" , model2.score(xtest,ytest))"
      ],
      "metadata": {
        "execution": {
          "iopub.status.busy": "2023-10-21T15:17:38.683895Z",
          "iopub.execute_input": "2023-10-21T15:17:38.684298Z",
          "iopub.status.idle": "2023-10-21T15:17:38.785234Z",
          "shell.execute_reply.started": "2023-10-21T15:17:38.684267Z",
          "shell.execute_reply": "2023-10-21T15:17:38.783626Z"
        },
        "trusted": true,
        "id": "spyBR_YU3N-r"
      },
      "execution_count": null,
      "outputs": []
    },
    {
      "cell_type": "code",
      "source": [
        "print(classification_report(ytrain , model2.predict(xtrain)))"
      ],
      "metadata": {
        "execution": {
          "iopub.status.busy": "2023-10-21T15:18:13.091043Z",
          "iopub.execute_input": "2023-10-21T15:18:13.091519Z",
          "iopub.status.idle": "2023-10-21T15:18:13.131693Z",
          "shell.execute_reply.started": "2023-10-21T15:18:13.091485Z",
          "shell.execute_reply": "2023-10-21T15:18:13.130647Z"
        },
        "trusted": true,
        "id": "zbAI5kDR3N-r"
      },
      "execution_count": null,
      "outputs": []
    },
    {
      "cell_type": "code",
      "source": [
        "print(classification_report(ytest , model2.predict(xtest)))"
      ],
      "metadata": {
        "execution": {
          "iopub.status.busy": "2023-10-21T15:18:35.505784Z",
          "iopub.execute_input": "2023-10-21T15:18:35.506244Z",
          "iopub.status.idle": "2023-10-21T15:18:35.52729Z",
          "shell.execute_reply.started": "2023-10-21T15:18:35.506208Z",
          "shell.execute_reply": "2023-10-21T15:18:35.526256Z"
        },
        "trusted": true,
        "id": "S-k4EmwL3N-r"
      },
      "execution_count": null,
      "outputs": []
    },
    {
      "cell_type": "markdown",
      "source": [
        "****\n",
        "Decision Tree Classifier\n",
        "****"
      ],
      "metadata": {
        "id": "ZpRotoSV3N-r"
      }
    },
    {
      "cell_type": "code",
      "source": [
        "#Grid Search CV -> to tune hyperparameter for the model\n",
        "\n",
        "from sklearn.model_selection import GridSearchCV\n",
        "\n",
        "model3 = DecisionTreeClassifier()\n",
        "\n",
        "param_grid = {\n",
        "    'max_depth' : [None,1,2,3,4],\n",
        "    'min_samples_split' : [5,7,9,10,11],\n",
        "    'min_samples_leaf' : [1,2,3,4,5,6,7,8,9,10]\n",
        "}\n",
        "\n",
        "#Create a GridSearchCV object\n",
        "grid_search = GridSearchCV(model3 , param_grid , cv=5)\n",
        "\n",
        "#fit the data into grid search object\n",
        "grid_search.fit(X,Y)\n",
        "\n",
        "#Best Hyperparameter\n",
        "print(\"Best Hyperparameter:\" , grid_search.best_params_)"
      ],
      "metadata": {
        "execution": {
          "iopub.status.busy": "2023-10-21T15:29:18.11278Z",
          "iopub.execute_input": "2023-10-21T15:29:18.113196Z",
          "iopub.status.idle": "2023-10-21T15:29:30.229135Z",
          "shell.execute_reply.started": "2023-10-21T15:29:18.113165Z",
          "shell.execute_reply": "2023-10-21T15:29:30.228263Z"
        },
        "trusted": true,
        "id": "mZV-z0Oo3N-r"
      },
      "execution_count": null,
      "outputs": []
    },
    {
      "cell_type": "code",
      "source": [
        "model4 = DecisionTreeClassifier(max_depth = 1, min_samples_leaf = 1, min_samples_split = 5)\n",
        "model4.fit(xtrain,ytrain)\n",
        "\n",
        "print(\"Train Data Accuracy=\" , model4.score(xtrain,ytrain))\n",
        "print(\"Test Data Accuracy=\" , model4.score(xtest,ytest))"
      ],
      "metadata": {
        "execution": {
          "iopub.status.busy": "2023-10-21T15:29:33.576763Z",
          "iopub.execute_input": "2023-10-21T15:29:33.577344Z",
          "iopub.status.idle": "2023-10-21T15:29:33.606449Z",
          "shell.execute_reply.started": "2023-10-21T15:29:33.577301Z",
          "shell.execute_reply": "2023-10-21T15:29:33.605163Z"
        },
        "trusted": true,
        "id": "sTCWiYaS3N-r"
      },
      "execution_count": null,
      "outputs": []
    },
    {
      "cell_type": "code",
      "source": [
        "print(classification_report(ytrain , model4.predict(xtrain)))"
      ],
      "metadata": {
        "execution": {
          "iopub.status.busy": "2023-10-21T15:30:18.447642Z",
          "iopub.execute_input": "2023-10-21T15:30:18.448081Z",
          "iopub.status.idle": "2023-10-21T15:30:18.470077Z",
          "shell.execute_reply.started": "2023-10-21T15:30:18.448044Z",
          "shell.execute_reply": "2023-10-21T15:30:18.468715Z"
        },
        "trusted": true,
        "id": "CKk9Epjr3N-r"
      },
      "execution_count": null,
      "outputs": []
    },
    {
      "cell_type": "code",
      "source": [
        "print(classification_report(ytest , model4.predict(xtest)))"
      ],
      "metadata": {
        "execution": {
          "iopub.status.busy": "2023-10-21T15:30:43.184138Z",
          "iopub.execute_input": "2023-10-21T15:30:43.184566Z",
          "iopub.status.idle": "2023-10-21T15:30:43.205556Z",
          "shell.execute_reply.started": "2023-10-21T15:30:43.184534Z",
          "shell.execute_reply": "2023-10-21T15:30:43.204442Z"
        },
        "trusted": true,
        "id": "YB0uiv9C3N-r"
      },
      "execution_count": null,
      "outputs": []
    },
    {
      "cell_type": "markdown",
      "source": [
        "****\n",
        "Random Forest Classifier\n",
        "****"
      ],
      "metadata": {
        "id": "cGBL6QE-3N-r"
      }
    },
    {
      "cell_type": "code",
      "source": [
        "#Grid Search CV -> to tune hyperparameter for the model\n",
        "\n",
        "from sklearn.model_selection import GridSearchCV\n",
        "\n",
        "model5 = RandomForestClassifier()\n",
        "\n",
        "param_grid = {\n",
        "    'n_estimators' : [5,10,20,40,80],\n",
        "    'max_depth' : [None,1,2,3,4],\n",
        "    'min_samples_split' : [5,7,9,10,11],\n",
        "    'min_samples_leaf' : [1,2,3,4,5,6,7,8,9,10]\n",
        "}\n",
        "\n",
        "#Create a GridSearchCV object\n",
        "grid_search = GridSearchCV(model5 , param_grid , cv=5)\n",
        "\n",
        "#fit the data into grid search object\n",
        "grid_search.fit(X,Y)\n",
        "\n",
        "#Best Hyperparameter\n",
        "print(\"Best Hyperparameter:\" , grid_search.best_params_)"
      ],
      "metadata": {
        "execution": {
          "iopub.status.busy": "2023-10-21T15:35:28.527437Z",
          "iopub.execute_input": "2023-10-21T15:35:28.528826Z",
          "iopub.status.idle": "2023-10-21T15:44:20.973824Z",
          "shell.execute_reply.started": "2023-10-21T15:35:28.528774Z",
          "shell.execute_reply": "2023-10-21T15:44:20.972451Z"
        },
        "trusted": true,
        "id": "ByDrnbos3N-r"
      },
      "execution_count": null,
      "outputs": []
    },
    {
      "cell_type": "code",
      "source": [
        "model6 = RandomForestClassifier(max_depth = 1, min_samples_leaf =  7,\n",
        "                                min_samples_split = 9, n_estimators = 80)\n",
        "\n",
        "model6.fit(xtrain,ytrain)\n",
        "\n",
        "print(\"Train Data Accuracy=\" , model6.score(xtrain,ytrain))\n",
        "print(\"Test Data Accuracy=\" , model6.score(xtest,ytest))"
      ],
      "metadata": {
        "execution": {
          "iopub.status.busy": "2023-10-21T15:51:55.530286Z",
          "iopub.execute_input": "2023-10-21T15:51:55.530875Z",
          "iopub.status.idle": "2023-10-21T15:51:55.761458Z",
          "shell.execute_reply.started": "2023-10-21T15:51:55.530826Z",
          "shell.execute_reply": "2023-10-21T15:51:55.760323Z"
        },
        "trusted": true,
        "id": "3P1rVtV13N-s"
      },
      "execution_count": null,
      "outputs": []
    },
    {
      "cell_type": "code",
      "source": [
        "print(classification_report(ytrain , model6.predict(xtrain)))"
      ],
      "metadata": {
        "execution": {
          "iopub.status.busy": "2023-10-21T15:52:08.626206Z",
          "iopub.execute_input": "2023-10-21T15:52:08.629697Z",
          "iopub.status.idle": "2023-10-21T15:52:08.67805Z",
          "shell.execute_reply.started": "2023-10-21T15:52:08.629513Z",
          "shell.execute_reply": "2023-10-21T15:52:08.675866Z"
        },
        "trusted": true,
        "id": "93xMQwN43N-s"
      },
      "execution_count": null,
      "outputs": []
    },
    {
      "cell_type": "code",
      "source": [
        "print(classification_report(ytest , model4.predict(xtest)))"
      ],
      "metadata": {
        "execution": {
          "iopub.status.busy": "2023-10-21T15:52:20.714187Z",
          "iopub.execute_input": "2023-10-21T15:52:20.714807Z",
          "iopub.status.idle": "2023-10-21T15:52:20.741041Z",
          "shell.execute_reply.started": "2023-10-21T15:52:20.714762Z",
          "shell.execute_reply": "2023-10-21T15:52:20.738835Z"
        },
        "trusted": true,
        "id": "L0L--Jpn3N-s"
      },
      "execution_count": null,
      "outputs": []
    },
    {
      "cell_type": "markdown",
      "source": [
        "**ROC AUC Curve**"
      ],
      "metadata": {
        "id": "RGPMM30k3N-s"
      }
    },
    {
      "cell_type": "code",
      "source": [
        "from sklearn.metrics import roc_curve,roc_auc_score"
      ],
      "metadata": {
        "execution": {
          "iopub.status.busy": "2023-10-21T15:53:20.10364Z",
          "iopub.execute_input": "2023-10-21T15:53:20.104144Z",
          "iopub.status.idle": "2023-10-21T15:53:20.111316Z",
          "shell.execute_reply.started": "2023-10-21T15:53:20.104103Z",
          "shell.execute_reply": "2023-10-21T15:53:20.109404Z"
        },
        "trusted": true,
        "id": "VkXwc95x3N-s"
      },
      "execution_count": null,
      "outputs": []
    },
    {
      "cell_type": "code",
      "source": [
        "#model1.predict_proba(xtrain)[:,1]"
      ],
      "metadata": {
        "execution": {
          "iopub.status.busy": "2023-10-21T15:54:40.037239Z",
          "iopub.execute_input": "2023-10-21T15:54:40.037788Z",
          "iopub.status.idle": "2023-10-21T15:54:40.044605Z",
          "shell.execute_reply.started": "2023-10-21T15:54:40.037749Z",
          "shell.execute_reply": "2023-10-21T15:54:40.04296Z"
        },
        "trusted": true,
        "id": "2b0Upgse3N-s"
      },
      "execution_count": null,
      "outputs": []
    },
    {
      "cell_type": "code",
      "source": [
        "aucKNN = roc_auc_score(ytrain , model1.predict_proba(xtrain)[:,1])\n",
        "aucLogistic = roc_auc_score(ytrain , model2.predict_proba(xtrain)[:,1])\n",
        "aucDTC = roc_auc_score(ytrain , model4.predict_proba(xtrain)[:,1])\n",
        "aucRFC = roc_auc_score(ytrain , model6.predict_proba(xtrain)[:,1])\n",
        "\n",
        "print(\"KNN=\", aucKNN)\n",
        "print(\"Logistic=\", aucLogistic)\n",
        "print(\"DecisionTreeClassifier=\", aucDTC)\n",
        "print(\"RandomForestClassifier=\", aucRFC)"
      ],
      "metadata": {
        "execution": {
          "iopub.status.busy": "2023-10-21T15:56:30.844443Z",
          "iopub.execute_input": "2023-10-21T15:56:30.844988Z",
          "iopub.status.idle": "2023-10-21T15:56:30.907543Z",
          "shell.execute_reply.started": "2023-10-21T15:56:30.844945Z",
          "shell.execute_reply": "2023-10-21T15:56:30.905958Z"
        },
        "trusted": true,
        "id": "CJ0bpdI_3N-s"
      },
      "execution_count": null,
      "outputs": []
    },
    {
      "cell_type": "code",
      "source": [
        "fprKNN,tprKNN,threshKNN = roc_curve(ytrain , model1.predict_proba(xtrain)[:,1])\n",
        "fprLogistic,tprLogistic,threshLogistic = roc_curve(ytrain , model2.predict_proba(xtrain)[:,1])\n",
        "fprDTC,tprDTC,threshDTC = roc_curve(ytrain , model4.predict_proba(xtrain)[:,1])\n",
        "fprRFC,tprRFC,threshRFC = roc_curve(ytrain , model6.predict_proba(xtrain)[:,1])"
      ],
      "metadata": {
        "execution": {
          "iopub.status.busy": "2023-10-21T15:58:20.781067Z",
          "iopub.execute_input": "2023-10-21T15:58:20.781583Z",
          "iopub.status.idle": "2023-10-21T15:58:20.842768Z",
          "shell.execute_reply.started": "2023-10-21T15:58:20.781535Z",
          "shell.execute_reply": "2023-10-21T15:58:20.840373Z"
        },
        "trusted": true,
        "id": "EOmOm7FO3N-t"
      },
      "execution_count": null,
      "outputs": []
    },
    {
      "cell_type": "code",
      "source": [
        "import matplotlib.pyplot as plt\n",
        "\n",
        "plt.plot(fprKNN , tprKNN , marker = '*' , label = \"KNN\")\n",
        "plt.plot(fprLogistic, tprLogistic , marker = '*' , label = \"Logistc\")\n",
        "plt.plot(fprDTC ,tprDTC , marker = '*' , label = \"Decision Tree Classifier\")\n",
        "plt.plot(fprRFC ,tprRFC , marker = '*' , label = \"Random Forest Classifier\")\n",
        "\n",
        "plt.legend()\n",
        "plt.show()"
      ],
      "metadata": {
        "execution": {
          "iopub.status.busy": "2023-10-21T16:00:15.630561Z",
          "iopub.execute_input": "2023-10-21T16:00:15.630994Z",
          "iopub.status.idle": "2023-10-21T16:00:15.972005Z",
          "shell.execute_reply.started": "2023-10-21T16:00:15.630962Z",
          "shell.execute_reply": "2023-10-21T16:00:15.970877Z"
        },
        "trusted": true,
        "id": "7z4e1gpZ3N-t"
      },
      "execution_count": null,
      "outputs": []
    },
    {
      "cell_type": "code",
      "source": [],
      "metadata": {
        "id": "u-VczxiX3N-t"
      },
      "execution_count": null,
      "outputs": []
    }
  ]
}